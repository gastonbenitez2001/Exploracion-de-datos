{
 "cells": [
  {
   "cell_type": "code",
   "execution_count": 20,
   "metadata": {},
   "outputs": [],
   "source": [
    "import pandas as pd\n",
    "import seaborn as sb\n",
    "import yfinance as yf\n",
    "from matplotlib import pyplot as plt"
   ]
  },
  {
   "cell_type": "code",
   "execution_count": 21,
   "metadata": {},
   "outputs": [
    {
     "name": "stdout",
     "output_type": "stream",
     "text": [
      "[*********************100%%**********************]  1 of 1 completed\n",
      "[*********************100%%**********************]  1 of 1 completed\n"
     ]
    }
   ],
   "source": [
    "#Buscamos datos de SP500 y MELI\n",
    "\n",
    "#Fechas de inicio y fin\n",
    "start_data = '2022-01-01'\n",
    "end_data = '2023-11-30'\n",
    "\n",
    "#Accion en cuestion\n",
    "etiqueta_accion = \"MELI\"\n",
    "\n",
    "data_sp500 = yf.download(\"^GSPC\",start=start_data,end=end_data, interval = \"1wk\")\n",
    "data_accion = yf.download(etiqueta_accion,start=start_data,end=end_data, interval = \"1wk\")\n"
   ]
  },
  {
   "cell_type": "code",
   "execution_count": null,
   "metadata": {},
   "outputs": [],
   "source": [
    "\n",
    "plt.plot(data_sp500['Close'])\n",
    "plt.plot(data_accion['Close'])"
   ]
  },
  {
   "cell_type": "code",
   "execution_count": 25,
   "metadata": {},
   "outputs": [
    {
     "ename": "NameError",
     "evalue": "name 'plit' is not defined",
     "output_type": "error",
     "traceback": [
      "\u001b[1;31m---------------------------------------------------------------------------\u001b[0m",
      "\u001b[1;31mNameError\u001b[0m                                 Traceback (most recent call last)",
      "\u001b[1;32mc:\\Users\\Usuario\\Desktop\\Aprendizaje Ciencia De Datos\\env\\acciones exploracion\\relacion_sp500_acciones.ipynb Cell 4\u001b[0m line \u001b[0;36m3\n\u001b[0;32m      <a href='vscode-notebook-cell:/c%3A/Users/Usuario/Desktop/Aprendizaje%20Ciencia%20De%20Datos/env/acciones%20exploracion/relacion_sp500_acciones.ipynb#W3sZmlsZQ%3D%3D?line=0'>1</a>\u001b[0m variacion_rendimiento_diario \u001b[39m=\u001b[39m data_accion[\u001b[39m'\u001b[39m\u001b[39mClose\u001b[39m\u001b[39m'\u001b[39m]\u001b[39m.\u001b[39mpct_change()\n\u001b[1;32m----> <a href='vscode-notebook-cell:/c%3A/Users/Usuario/Desktop/Aprendizaje%20Ciencia%20De%20Datos/env/acciones%20exploracion/relacion_sp500_acciones.ipynb#W3sZmlsZQ%3D%3D?line=2'>3</a>\u001b[0m plit\u001b[39m.\u001b[39mplot(variacion_rendimiento_diario)\n",
      "\u001b[1;31mNameError\u001b[0m: name 'plit' is not defined"
     ]
    }
   ],
   "source": [
    "variacion_rendimiento_diario = data_accion['Close'].pct_change()\n",
    "\n",
    "plt.plot(variacion_rendimiento_diario)"
   ]
  }
 ],
 "metadata": {
  "kernelspec": {
   "display_name": "env",
   "language": "python",
   "name": "python3"
  },
  "language_info": {
   "codemirror_mode": {
    "name": "ipython",
    "version": 3
   },
   "file_extension": ".py",
   "mimetype": "text/x-python",
   "name": "python",
   "nbconvert_exporter": "python",
   "pygments_lexer": "ipython3",
   "version": "3.11.4"
  }
 },
 "nbformat": 4,
 "nbformat_minor": 2
}
